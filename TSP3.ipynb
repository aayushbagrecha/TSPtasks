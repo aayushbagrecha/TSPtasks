{
  "nbformat": 4,
  "nbformat_minor": 0,
  "metadata": {
    "colab": {
      "name": "TSP3.ipynb",
      "provenance": [],
      "collapsed_sections": [],
      "toc_visible": true,
      "machine_shape": "hm",
      "include_colab_link": true
    },
    "kernelspec": {
      "name": "python3",
      "display_name": "Python 3"
    }
  },
  "cells": [
    {
      "cell_type": "markdown",
      "metadata": {
        "id": "view-in-github",
        "colab_type": "text"
      },
      "source": [
        "<a href=\"https://colab.research.google.com/github/aayushbagrecha/TSPtasks/blob/master/TSP3.ipynb\" target=\"_parent\"><img src=\"https://colab.research.google.com/assets/colab-badge.svg\" alt=\"Open In Colab\"/></a>"
      ]
    },
    {
      "cell_type": "markdown",
      "metadata": {
        "id": "0MRC0e0KhQ0S",
        "colab_type": "text"
      },
      "source": [
        "##Task # 4 - To Explore Decision Tree Algorithm\n",
        "\n",
        "For the given ‘Iris’ dataset, create the Decision Tree classifier and\n",
        "visualize it graphically. The purpose is if we feed any new data to this\n",
        "classifier, it would be able to predict the right class accordingly."
      ]
    },
    {
      "cell_type": "markdown",
      "metadata": {
        "id": "LWd1UlMnhT2s",
        "colab_type": "text"
      },
      "source": [
        "## Importing the libraries"
      ]
    },
    {
      "cell_type": "code",
      "metadata": {
        "id": "YvGPUQaHhXfL",
        "colab_type": "code",
        "colab": {}
      },
      "source": [
        "import numpy as np\n",
        "import matplotlib.pyplot as plt\n",
        "import pandas as pd"
      ],
      "execution_count": null,
      "outputs": []
    },
    {
      "cell_type": "markdown",
      "metadata": {
        "id": "K1VMqkGvhc3-",
        "colab_type": "text"
      },
      "source": [
        "## Importing the dataset"
      ]
    },
    {
      "cell_type": "code",
      "metadata": {
        "id": "M52QDmyzhh9s",
        "colab_type": "code",
        "colab": {}
      },
      "source": [
        "dataset = pd.read_csv('TSP2.csv')\n",
        "X = dataset.iloc[:, :-1].values\n",
        "y = dataset.iloc[:, -1].values"
      ],
      "execution_count": null,
      "outputs": []
    },
    {
      "cell_type": "markdown",
      "metadata": {
        "id": "YvxIPVyMhmKp",
        "colab_type": "text"
      },
      "source": [
        "## Splitting the dataset into the Training set and Test set"
      ]
    },
    {
      "cell_type": "code",
      "metadata": {
        "id": "AVzJWAXIhxoC",
        "colab_type": "code",
        "colab": {}
      },
      "source": [
        "from sklearn.model_selection import train_test_split\n",
        "X_train, X_test, y_train, y_test = train_test_split(X, y, test_size = 0.2, random_state = 0)"
      ],
      "execution_count": null,
      "outputs": []
    },
    {
      "cell_type": "code",
      "metadata": {
        "id": "kW7_lon8pFGZ",
        "colab_type": "code",
        "colab": {
          "base_uri": "https://localhost:8080/",
          "height": 1000
        },
        "outputId": "3598dfc7-01ea-47f3-895c-62f93493b64d"
      },
      "source": [
        "print(X_train)"
      ],
      "execution_count": null,
      "outputs": [
        {
          "output_type": "stream",
          "text": [
            "[[1.38e+02 6.40e+00 3.10e+00 5.50e+00 1.80e+00]\n",
            " [8.50e+01 5.40e+00 3.00e+00 4.50e+00 1.50e+00]\n",
            " [2.80e+01 5.20e+00 3.50e+00 1.50e+00 2.00e-01]\n",
            " [1.28e+02 6.10e+00 3.00e+00 4.90e+00 1.80e+00]\n",
            " [1.33e+02 6.40e+00 2.80e+00 5.60e+00 2.20e+00]\n",
            " [6.00e+01 5.20e+00 2.70e+00 3.90e+00 1.40e+00]\n",
            " [1.90e+01 5.70e+00 3.80e+00 1.70e+00 3.00e-01]\n",
            " [8.40e+01 6.00e+00 2.70e+00 5.10e+00 1.60e+00]\n",
            " [6.20e+01 5.90e+00 3.00e+00 4.20e+00 1.50e+00]\n",
            " [9.30e+01 5.80e+00 2.60e+00 4.00e+00 1.20e+00]\n",
            " [1.13e+02 6.80e+00 3.00e+00 5.50e+00 2.10e+00]\n",
            " [3.00e+00 4.70e+00 3.20e+00 1.30e+00 2.00e-01]\n",
            " [1.42e+02 6.90e+00 3.10e+00 5.10e+00 2.30e+00]\n",
            " [4.40e+01 5.00e+00 3.50e+00 1.60e+00 6.00e-01]\n",
            " [1.10e+01 5.40e+00 3.70e+00 1.50e+00 2.00e-01]\n",
            " [6.10e+01 5.00e+00 2.00e+00 3.50e+00 1.00e+00]\n",
            " [1.17e+02 6.50e+00 3.00e+00 5.50e+00 1.80e+00]\n",
            " [1.45e+02 6.70e+00 3.30e+00 5.70e+00 2.50e+00]\n",
            " [1.20e+02 6.00e+00 2.20e+00 5.00e+00 1.50e+00]\n",
            " [1.09e+02 6.70e+00 2.50e+00 5.80e+00 1.80e+00]\n",
            " [7.00e+01 5.60e+00 2.50e+00 3.90e+00 1.10e+00]\n",
            " [1.36e+02 7.70e+00 3.00e+00 6.10e+00 2.30e+00]\n",
            " [5.70e+01 6.30e+00 3.30e+00 4.70e+00 1.60e+00]\n",
            " [8.10e+01 5.50e+00 2.40e+00 3.80e+00 1.10e+00]\n",
            " [1.24e+02 6.30e+00 2.70e+00 4.90e+00 1.80e+00]\n",
            " [1.34e+02 6.30e+00 2.80e+00 5.10e+00 1.50e+00]\n",
            " [1.07e+02 4.90e+00 2.50e+00 4.50e+00 1.70e+00]\n",
            " [1.47e+02 6.30e+00 2.50e+00 5.00e+00 1.90e+00]\n",
            " [5.10e+01 7.00e+00 3.20e+00 4.70e+00 1.40e+00]\n",
            " [1.48e+02 6.50e+00 3.00e+00 5.20e+00 2.00e+00]\n",
            " [8.60e+01 6.00e+00 3.40e+00 4.50e+00 1.60e+00]\n",
            " [3.10e+01 4.80e+00 3.10e+00 1.60e+00 2.00e-01]\n",
            " [1.02e+02 5.80e+00 2.70e+00 5.10e+00 1.90e+00]\n",
            " [9.50e+01 5.60e+00 2.70e+00 4.20e+00 1.30e+00]\n",
            " [6.50e+01 5.60e+00 2.90e+00 3.60e+00 1.30e+00]\n",
            " [9.00e+01 5.50e+00 2.50e+00 4.00e+00 1.30e+00]\n",
            " [9.20e+01 6.10e+00 3.00e+00 4.60e+00 1.40e+00]\n",
            " [1.26e+02 7.20e+00 3.20e+00 6.00e+00 1.80e+00]\n",
            " [4.90e+01 5.30e+00 3.70e+00 1.50e+00 2.00e-01]\n",
            " [1.40e+01 4.30e+00 3.00e+00 1.10e+00 1.00e-01]\n",
            " [1.12e+02 6.40e+00 2.70e+00 5.30e+00 1.90e+00]\n",
            " [9.60e+01 5.70e+00 3.00e+00 4.20e+00 1.20e+00]\n",
            " [2.10e+01 5.40e+00 3.40e+00 1.70e+00 2.00e-01]\n",
            " [1.60e+01 5.70e+00 4.40e+00 1.50e+00 4.00e-01]\n",
            " [5.30e+01 6.90e+00 3.10e+00 4.90e+00 1.50e+00]\n",
            " [4.00e+00 4.60e+00 3.10e+00 1.50e+00 2.00e-01]\n",
            " [1.50e+02 5.90e+00 3.00e+00 5.10e+00 1.80e+00]\n",
            " [9.90e+01 5.10e+00 2.50e+00 3.00e+00 1.10e+00]\n",
            " [7.00e+00 4.60e+00 3.40e+00 1.40e+00 3.00e-01]\n",
            " [6.90e+01 6.20e+00 2.20e+00 4.50e+00 1.50e+00]\n",
            " [1.10e+02 7.20e+00 3.60e+00 6.10e+00 2.50e+00]\n",
            " [9.70e+01 5.70e+00 2.90e+00 4.20e+00 1.30e+00]\n",
            " [1.30e+01 4.80e+00 3.00e+00 1.40e+00 1.00e-01]\n",
            " [1.03e+02 7.10e+00 3.00e+00 5.90e+00 2.10e+00]\n",
            " [1.21e+02 6.90e+00 3.20e+00 5.70e+00 2.30e+00]\n",
            " [1.05e+02 6.50e+00 3.00e+00 5.80e+00 2.20e+00]\n",
            " [1.29e+02 6.40e+00 2.80e+00 5.60e+00 2.10e+00]\n",
            " [4.70e+01 5.10e+00 3.80e+00 1.60e+00 2.00e-01]\n",
            " [1.20e+01 4.80e+00 3.40e+00 1.60e+00 2.00e-01]\n",
            " [1.11e+02 6.50e+00 3.20e+00 5.10e+00 2.00e+00]\n",
            " [1.25e+02 6.70e+00 3.30e+00 5.70e+00 2.10e+00]\n",
            " [4.20e+01 4.50e+00 2.30e+00 1.30e+00 3.00e-01]\n",
            " [1.49e+02 6.20e+00 3.40e+00 5.40e+00 2.30e+00]\n",
            " [2.00e+00 4.90e+00 3.00e+00 1.40e+00 2.00e-01]\n",
            " [1.14e+02 5.70e+00 2.50e+00 5.00e+00 2.00e+00]\n",
            " [1.40e+02 6.90e+00 3.10e+00 5.40e+00 2.10e+00]\n",
            " [4.30e+01 4.40e+00 3.20e+00 1.30e+00 2.00e-01]\n",
            " [5.00e+00 5.00e+00 3.60e+00 1.40e+00 2.00e-01]\n",
            " [1.30e+02 7.20e+00 3.00e+00 5.80e+00 1.60e+00]\n",
            " [1.80e+01 5.10e+00 3.50e+00 1.40e+00 3.00e-01]\n",
            " [3.90e+01 4.40e+00 3.00e+00 1.30e+00 2.00e-01]\n",
            " [6.00e+00 5.40e+00 3.90e+00 1.70e+00 4.00e-01]\n",
            " [5.40e+01 5.50e+00 2.30e+00 4.00e+00 1.30e+00]\n",
            " [1.44e+02 6.80e+00 3.20e+00 5.90e+00 2.30e+00]\n",
            " [1.06e+02 7.60e+00 3.00e+00 6.60e+00 2.10e+00]\n",
            " [1.00e+00 5.10e+00 3.50e+00 1.40e+00 2.00e-01]\n",
            " [3.50e+01 4.90e+00 3.10e+00 1.50e+00 1.00e-01]\n",
            " [2.90e+01 5.20e+00 3.40e+00 1.40e+00 2.00e-01]\n",
            " [5.60e+01 5.70e+00 2.80e+00 4.50e+00 1.30e+00]\n",
            " [7.60e+01 6.60e+00 3.00e+00 4.40e+00 1.40e+00]\n",
            " [3.60e+01 5.00e+00 3.20e+00 1.20e+00 2.00e-01]\n",
            " [2.40e+01 5.10e+00 3.30e+00 1.70e+00 5.00e-01]\n",
            " [7.50e+01 6.40e+00 2.90e+00 4.30e+00 1.30e+00]\n",
            " [3.20e+01 5.40e+00 3.40e+00 1.50e+00 4.00e-01]\n",
            " [1.19e+02 7.70e+00 2.60e+00 6.90e+00 2.30e+00]\n",
            " [5.80e+01 4.90e+00 2.40e+00 3.30e+00 1.00e+00]\n",
            " [1.32e+02 7.90e+00 3.80e+00 6.40e+00 2.00e+00]\n",
            " [6.60e+01 6.70e+00 3.10e+00 4.40e+00 1.40e+00]\n",
            " [3.30e+01 5.20e+00 4.10e+00 1.50e+00 1.00e-01]\n",
            " [1.39e+02 6.00e+00 3.00e+00 4.80e+00 1.80e+00]\n",
            " [1.50e+01 5.80e+00 4.00e+00 1.20e+00 2.00e-01]\n",
            " [1.23e+02 7.70e+00 2.80e+00 6.70e+00 2.00e+00]\n",
            " [2.00e+01 5.10e+00 3.80e+00 1.50e+00 3.00e-01]\n",
            " [3.00e+01 4.70e+00 3.20e+00 1.60e+00 2.00e-01]\n",
            " [1.31e+02 7.40e+00 2.80e+00 6.10e+00 1.90e+00]\n",
            " [5.00e+01 5.00e+00 3.30e+00 1.40e+00 2.00e-01]\n",
            " [1.37e+02 6.30e+00 3.40e+00 5.60e+00 2.40e+00]\n",
            " [1.00e+02 5.70e+00 2.80e+00 4.10e+00 1.30e+00]\n",
            " [8.30e+01 5.80e+00 2.70e+00 3.90e+00 1.20e+00]\n",
            " [8.00e+01 5.70e+00 2.60e+00 3.50e+00 1.00e+00]\n",
            " [1.16e+02 6.40e+00 3.20e+00 5.30e+00 2.30e+00]\n",
            " [1.46e+02 6.70e+00 3.00e+00 5.20e+00 2.30e+00]\n",
            " [7.30e+01 6.30e+00 2.50e+00 4.90e+00 1.50e+00]\n",
            " [7.80e+01 6.70e+00 3.00e+00 5.00e+00 1.70e+00]\n",
            " [2.60e+01 5.00e+00 3.00e+00 1.60e+00 2.00e-01]\n",
            " [8.20e+01 5.50e+00 2.40e+00 3.70e+00 1.00e+00]\n",
            " [1.41e+02 6.70e+00 3.10e+00 5.60e+00 2.40e+00]\n",
            " [1.43e+02 5.80e+00 2.70e+00 5.10e+00 1.90e+00]\n",
            " [4.00e+01 5.10e+00 3.40e+00 1.50e+00 2.00e-01]\n",
            " [5.90e+01 6.60e+00 2.90e+00 4.60e+00 1.30e+00]\n",
            " [8.90e+01 5.60e+00 3.00e+00 4.10e+00 1.30e+00]\n",
            " [7.10e+01 5.90e+00 3.20e+00 4.80e+00 1.80e+00]\n",
            " [8.80e+01 6.30e+00 2.30e+00 4.40e+00 1.30e+00]\n",
            " [3.70e+01 5.50e+00 3.50e+00 1.30e+00 2.00e-01]\n",
            " [2.20e+01 5.10e+00 3.70e+00 1.50e+00 4.00e-01]\n",
            " [1.00e+01 4.90e+00 3.10e+00 1.50e+00 1.00e-01]\n",
            " [1.04e+02 6.30e+00 2.90e+00 5.60e+00 1.80e+00]\n",
            " [6.80e+01 5.80e+00 2.70e+00 4.10e+00 1.00e+00]\n",
            " [1.18e+02 7.70e+00 3.80e+00 6.70e+00 2.20e+00]\n",
            " [4.80e+01 4.60e+00 3.20e+00 1.40e+00 2.00e-01]]\n"
          ],
          "name": "stdout"
        }
      ]
    },
    {
      "cell_type": "code",
      "metadata": {
        "id": "_GkyB_j6pLNV",
        "colab_type": "code",
        "colab": {
          "base_uri": "https://localhost:8080/",
          "height": 521
        },
        "outputId": "d404c92c-4f78-4abf-ac54-279696f692bb"
      },
      "source": [
        "print(X_test)"
      ],
      "execution_count": null,
      "outputs": [
        {
          "output_type": "stream",
          "text": [
            "[[1.15e+02 5.80e+00 2.80e+00 5.10e+00 2.40e+00]\n",
            " [6.30e+01 6.00e+00 2.20e+00 4.00e+00 1.00e+00]\n",
            " [3.40e+01 5.50e+00 4.20e+00 1.40e+00 2.00e-01]\n",
            " [1.08e+02 7.30e+00 2.90e+00 6.30e+00 1.80e+00]\n",
            " [8.00e+00 5.00e+00 3.40e+00 1.50e+00 2.00e-01]\n",
            " [1.01e+02 6.30e+00 3.30e+00 6.00e+00 2.50e+00]\n",
            " [4.10e+01 5.00e+00 3.50e+00 1.30e+00 3.00e-01]\n",
            " [8.70e+01 6.70e+00 3.10e+00 4.70e+00 1.50e+00]\n",
            " [7.70e+01 6.80e+00 2.80e+00 4.80e+00 1.40e+00]\n",
            " [7.20e+01 6.10e+00 2.80e+00 4.00e+00 1.30e+00]\n",
            " [1.35e+02 6.10e+00 2.60e+00 5.60e+00 1.40e+00]\n",
            " [5.20e+01 6.40e+00 3.20e+00 4.50e+00 1.50e+00]\n",
            " [7.40e+01 6.10e+00 2.80e+00 4.70e+00 1.20e+00]\n",
            " [5.50e+01 6.50e+00 2.80e+00 4.60e+00 1.50e+00]\n",
            " [6.40e+01 6.10e+00 2.90e+00 4.70e+00 1.40e+00]\n",
            " [3.80e+01 4.90e+00 3.10e+00 1.50e+00 1.00e-01]\n",
            " [7.90e+01 6.00e+00 2.90e+00 4.50e+00 1.50e+00]\n",
            " [9.10e+01 5.50e+00 2.60e+00 4.40e+00 1.20e+00]\n",
            " [4.60e+01 4.80e+00 3.00e+00 1.40e+00 3.00e-01]\n",
            " [1.70e+01 5.40e+00 3.90e+00 1.30e+00 4.00e-01]\n",
            " [1.22e+02 5.60e+00 2.80e+00 4.90e+00 2.00e+00]\n",
            " [6.70e+01 5.60e+00 3.00e+00 4.50e+00 1.50e+00]\n",
            " [2.50e+01 4.80e+00 3.40e+00 1.90e+00 2.00e-01]\n",
            " [9.00e+00 4.40e+00 2.90e+00 1.40e+00 2.00e-01]\n",
            " [1.27e+02 6.20e+00 2.80e+00 4.80e+00 1.80e+00]\n",
            " [2.30e+01 4.60e+00 3.60e+00 1.00e+00 2.00e-01]\n",
            " [4.50e+01 5.10e+00 3.80e+00 1.90e+00 4.00e-01]\n",
            " [9.80e+01 6.20e+00 2.90e+00 4.30e+00 1.30e+00]\n",
            " [9.40e+01 5.00e+00 2.30e+00 3.30e+00 1.00e+00]\n",
            " [2.70e+01 5.00e+00 3.40e+00 1.60e+00 4.00e-01]]\n"
          ],
          "name": "stdout"
        }
      ]
    },
    {
      "cell_type": "markdown",
      "metadata": {
        "id": "kW3c7UYih0hT",
        "colab_type": "text"
      },
      "source": [
        "## Feature Scaling"
      ]
    },
    {
      "cell_type": "code",
      "metadata": {
        "id": "9fQlDPKCh8sc",
        "colab_type": "code",
        "colab": {}
      },
      "source": [
        "from sklearn.preprocessing import StandardScaler\n",
        "sc = StandardScaler()\n",
        "X_train = sc.fit_transform(X_train)\n",
        "X_test = sc.transform(X_test)"
      ],
      "execution_count": null,
      "outputs": []
    },
    {
      "cell_type": "markdown",
      "metadata": {
        "id": "bb6jCOCQiAmP",
        "colab_type": "text"
      },
      "source": [
        "## Training the Decision Tree Classification model on the Training set"
      ]
    },
    {
      "cell_type": "code",
      "metadata": {
        "id": "e0pFVAmciHQs",
        "colab_type": "code",
        "colab": {
          "base_uri": "https://localhost:8080/",
          "height": 118
        },
        "outputId": "814e73a5-269a-417c-fcd2-e30d2f0b2df4"
      },
      "source": [
        "from sklearn.tree import DecisionTreeClassifier\n",
        "classifier = DecisionTreeClassifier(criterion = 'entropy', random_state = 0)\n",
        "classifier.fit(X_train, y_train)"
      ],
      "execution_count": null,
      "outputs": [
        {
          "output_type": "execute_result",
          "data": {
            "text/plain": [
              "DecisionTreeClassifier(ccp_alpha=0.0, class_weight=None, criterion='entropy',\n",
              "                       max_depth=None, max_features=None, max_leaf_nodes=None,\n",
              "                       min_impurity_decrease=0.0, min_impurity_split=None,\n",
              "                       min_samples_leaf=1, min_samples_split=2,\n",
              "                       min_weight_fraction_leaf=0.0, presort='deprecated',\n",
              "                       random_state=0, splitter='best')"
            ]
          },
          "metadata": {
            "tags": []
          },
          "execution_count": 15
        }
      ]
    },
    {
      "cell_type": "markdown",
      "metadata": {
        "id": "h4Hwj34ziWQW",
        "colab_type": "text"
      },
      "source": [
        "## Making the Confusion Matrix"
      ]
    },
    {
      "cell_type": "code",
      "metadata": {
        "id": "D6bpZwUiiXic",
        "colab_type": "code",
        "colab": {
          "base_uri": "https://localhost:8080/",
          "height": 84
        },
        "outputId": "6c538dc6-ad41-43bd-bdf9-f00b3167b269"
      },
      "source": [
        "from sklearn.metrics import confusion_matrix, accuracy_score\n",
        "y_pred = classifier.predict(X_test)\n",
        "cm = confusion_matrix(y_test, y_pred)\n",
        "print(cm)\n",
        "accuracy_score(y_test, y_pred)"
      ],
      "execution_count": null,
      "outputs": [
        {
          "output_type": "stream",
          "text": [
            "[[11  0  0]\n",
            " [ 0 13  0]\n",
            " [ 0  1  5]]\n"
          ],
          "name": "stdout"
        },
        {
          "output_type": "execute_result",
          "data": {
            "text/plain": [
              "0.9666666666666667"
            ]
          },
          "metadata": {
            "tags": []
          },
          "execution_count": 16
        }
      ]
    },
    {
      "cell_type": "code",
      "metadata": {
        "id": "YOMCIktU21RQ",
        "colab_type": "code",
        "colab": {}
      },
      "source": [
        ""
      ],
      "execution_count": null,
      "outputs": []
    }
  ]
}